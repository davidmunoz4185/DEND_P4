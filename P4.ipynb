{
 "cells": [
  {
   "cell_type": "code",
   "execution_count": 29,
   "metadata": {},
   "outputs": [],
   "source": [
    "import configparser\n",
    "from datetime import datetime\n",
    "import os\n",
    "from pyspark.sql import SparkSession\n",
    "from pyspark.sql.functions import udf, col\n",
    "from pyspark.sql.functions import year, month, dayofmonth, hour, weekofyear, date_format"
   ]
  },
  {
   "cell_type": "code",
   "execution_count": 30,
   "metadata": {},
   "outputs": [
    {
     "data": {
      "text/plain": [
       "['aws/credentials.cfg']"
      ]
     },
     "execution_count": 30,
     "metadata": {},
     "output_type": "execute_result"
    }
   ],
   "source": [
    "config = configparser.ConfigParser()\n",
    "config.read('aws/credentials.cfg')"
   ]
  },
  {
   "cell_type": "code",
   "execution_count": 31,
   "metadata": {},
   "outputs": [],
   "source": [
    "os.environ[\"AWS_ACCESS_KEY_ID\"]= config['AWS']['AWS_ACCESS_KEY_ID']\n",
    "os.environ[\"AWS_SECRET_ACCESS_KEY\"]= config['AWS']['AWS_SECRET_ACCESS_KEY']"
   ]
  },
  {
   "cell_type": "code",
   "execution_count": 32,
   "metadata": {},
   "outputs": [],
   "source": [
    "def create_spark_session():\n",
    "    spark = SparkSession \\\n",
    "        .builder \\\n",
    "        .config(\"spark.jars.packages\", \"org.apache.hadoop:hadoop-aws:2.7.0\") \\\n",
    "        .getOrCreate()\n",
    "    return spark"
   ]
  },
  {
   "cell_type": "code",
   "execution_count": 33,
   "metadata": {},
   "outputs": [],
   "source": [
    "def process_song_data(spark, input_data, output_data):\n",
    "    # get filepath to song data file\n",
    "    song_data = \"{}/song_data/*/*/*/*.json\".format(input_data)\n",
    "\n",
    "    # read song data file\n",
    "    df = spark.read.json(song_data)\n",
    "    df.createOrReplaceTempView(\"song_data\")\n",
    "\n",
    "    # extract columns to create songs table\n",
    "    songs_table = spark.sql(\"\"\"\n",
    "        SELECT DISTINCT song_id,\n",
    "        title,\n",
    "        artist_id,\n",
    "        year,\n",
    "        duration\n",
    "        FROM song_data\n",
    "        WHERE song_id IS NOT NULL\n",
    "    \"\"\")\n",
    "\n",
    "    # write songs table to parquet files partitioned by year and artist\n",
    "    songs_table.write.partitionBy(\"year\", \"artist_id\").parquet(\"{}/songs\".format(output_data))\n",
    "\n",
    "    # extract columns to create artists table\n",
    "    artists_table = spark.sql(\"\"\"\n",
    "        SELECT DISTINCT artist_id,\n",
    "        artist_name,\n",
    "        artist_location,\n",
    "        artist_latitude,\n",
    "        artist_longitude\n",
    "        FROM song_data\n",
    "        WHERE artist_id IS NOT NULL\n",
    "    \"\"\")\n",
    "\n",
    "    # write artists table to parquet files\n",
    "    artists_table.write.parquet(\"{}/artists\".format(output_data))"
   ]
  },
  {
   "cell_type": "code",
   "execution_count": 34,
   "metadata": {},
   "outputs": [],
   "source": [
    "def process_log_data(spark, input_data, output_data):\n",
    "    # get filepath to log data file\n",
    "    log_data = \"{}/log_data/*.json\".format(input_data)\n",
    "\n",
    "    # read log data file\n",
    "    df = spark.read.json(log_data)\n",
    "\n",
    "    # filter by actions for song plays\n",
    "    df.createOrReplaceTempView(\"log_data\")\n",
    "    df = spark.sql(\"\"\"\n",
    "        SELECT *\n",
    "        FROM log_data\n",
    "        WHERE page = 'NextSong'\n",
    "    \"\"\")\n",
    "\n",
    "    # extract columns for users table\n",
    "    users_table = spark.sql(\"\"\"\n",
    "        SELECT DISTINCT userid,\n",
    "        firstname,\n",
    "        lastname,\n",
    "        gender,\n",
    "        level\n",
    "        FROM log_data\n",
    "        WHERE userid IS NOT NULL\n",
    "    \"\"\")\n",
    "\n",
    "    # write users table to parquet files\n",
    "    users_table.write.parquet(\"{}/users\".format(output_data))\n",
    "\n",
    "    # create timestamp column from original timestamp column\n",
    "    spark.udf.register(\"get_hour\", lambda x: int(datetime.fromtimestamp(x / 1000.0).hour))\n",
    "    spark.udf.register(\"get_minute\", lambda x: int(datetime.fromtimestamp(x / 1000.0).minute))\n",
    "    spark.udf.register(\"get_second\", lambda x: int(datetime.fromtimestamp(x / 1000.0).second))\n",
    "    spark.udf.register(\"get_year\", lambda x: int(datetime.fromtimestamp(x / 1000.0).year))\n",
    "    spark.udf.register(\"get_month\", lambda x: int(datetime.fromtimestamp(x / 1000.0).month))\n",
    "    spark.udf.register(\"get_day\", lambda x: int(datetime.fromtimestamp(x / 1000.0).day))\n",
    "\n",
    "\n",
    "    # extract columns to create time table\n",
    "    time_table = spark.sql(\"\"\"\n",
    "        SELECT DISTINCT\n",
    "        ts as ts,\n",
    "        get_hour(ts) as hour,\n",
    "        get_minute(ts) as minute,\n",
    "        get_second(ts) as second,\n",
    "        get_day(ts) as day,\n",
    "        get_month(ts) as month,\n",
    "        get_year(ts) as year\n",
    "        FROM log_data\n",
    "    \"\"\")\n",
    "\n",
    "    # write time table to parquet files partitioned by year and month\n",
    "    time_table.write.partitionBy(\"year\", \"month\").parquet(\"{}/time_table\".format(output_data))\n",
    "\n",
    "    # extract columns from joined song and log datasets to create songplays table\n",
    "    songplays_table = spark.sql(\"\"\"\n",
    "        SELECT events.ts,\n",
    "        get_year(ts) as year,\n",
    "        get_month(ts) as month,\n",
    "        events.userid,\n",
    "        events.level,\n",
    "        songs.song_id,\n",
    "        songs.artist_id,\n",
    "        events.sessionid,\n",
    "        events.location,\n",
    "        events.useragent\n",
    "        FROM log_data events inner join song_data songs\n",
    "        on songs.artist_name = events.artist\n",
    "        and songs.title = events.song\n",
    "        WHERE events.page = 'NextSong'\n",
    "        and songs.artist_name is not null\n",
    "        and songs.title is not null\n",
    "    \"\"\")\n",
    "\n",
    "    # write songplays table to parquet files partitioned by year and month\n",
    "    songplays_table.write.partitionBy(\"year\", \"month\").parquet(\"{}/song_plays\".format(output_data))\n"
   ]
  },
  {
   "cell_type": "code",
   "execution_count": 35,
   "metadata": {},
   "outputs": [],
   "source": [
    "def main():\n",
    "    spark = create_spark_session()\n",
    "    #input_data = \"s3a://udacity-dend/\"\n",
    "    input_data = \".\"\n",
    "    output_data = \".\"\n",
    "    \n",
    "    process_song_data(spark, input_data, output_data)    \n",
    "    process_log_data(spark, input_data, output_data)\n",
    "\n",
    "\n",
    "if __name__ == \"__main__\":\n",
    "    main()\n"
   ]
  }
 ],
 "metadata": {
  "kernelspec": {
   "display_name": "Python 3",
   "language": "python",
   "name": "python3"
  },
  "language_info": {
   "codemirror_mode": {
    "name": "ipython",
    "version": 3
   },
   "file_extension": ".py",
   "mimetype": "text/x-python",
   "name": "python",
   "nbconvert_exporter": "python",
   "pygments_lexer": "ipython3",
   "version": "3.7.3"
  }
 },
 "nbformat": 4,
 "nbformat_minor": 2
}
